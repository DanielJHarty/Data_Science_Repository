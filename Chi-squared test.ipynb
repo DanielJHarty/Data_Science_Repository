{
 "cells": [
  {
   "cell_type": "markdown",
   "metadata": {},
   "source": [
    "# Import nesssary modules"
   ]
  },
  {
   "cell_type": "code",
   "execution_count": 1,
   "metadata": {},
   "outputs": [
    {
     "data": {
      "text/html": [
       "<script type=\"text/javascript\">window.PlotlyConfig = {MathJaxConfig: 'local'};</script><script type=\"text/javascript\">if (window.MathJax) {MathJax.Hub.Config({SVG: {font: \"STIX-Web\"}});}</script><script>requirejs.config({paths: { 'plotly': ['https://cdn.plot.ly/plotly-latest.min']},});if(!window._Plotly) {require(['plotly'],function(plotly) {window._Plotly=plotly;});}</script>"
      ],
      "text/vnd.plotly.v1+html": [
       "<script type=\"text/javascript\">window.PlotlyConfig = {MathJaxConfig: 'local'};</script><script type=\"text/javascript\">if (window.MathJax) {MathJax.Hub.Config({SVG: {font: \"STIX-Web\"}});}</script><script>requirejs.config({paths: { 'plotly': ['https://cdn.plot.ly/plotly-latest.min']},});if(!window._Plotly) {require(['plotly'],function(plotly) {window._Plotly=plotly;});}</script>"
      ]
     },
     "metadata": {},
     "output_type": "display_data"
    }
   ],
   "source": [
    "from plotly.offline import download_plotlyjs, init_notebook_mode, plot, iplot\n",
    "import plotly.graph_objs as go\n",
    "init_notebook_mode(connected=True)\n",
    "import plotly.figure_factory as ff\n",
    "from plotly.tools import FigureFactory as FF\n",
    "import pandas as pd\n",
    "import numpy as np\n",
    "import scipy"
   ]
  },
  {
   "cell_type": "markdown",
   "metadata": {},
   "source": [
    "# Dataset Manipulation"
   ]
  },
  {
   "cell_type": "markdown",
   "metadata": {},
   "source": [
    "Read in dataset"
   ]
  },
  {
   "cell_type": "code",
   "execution_count": 4,
   "metadata": {},
   "outputs": [],
   "source": [
    "wtdf = pd.read_csv(\"D:/Users/Daniel Harty/Documents/daniel_mast_1/Wildtype_rosette_widths.csv\")\n",
    "mtdf = pd.read_csv(\"D:/Users/Daniel Harty/Documents/daniel_mast_1/Mutant_rosette_widths.csv\")"
   ]
  },
  {
   "cell_type": "markdown",
   "metadata": {},
   "source": [
    "Check dataset integrity"
   ]
  },
  {
   "cell_type": "code",
   "execution_count": 5,
   "metadata": {},
   "outputs": [
    {
     "data": {
      "text/html": [
       "<div>\n",
       "<style scoped>\n",
       "    .dataframe tbody tr th:only-of-type {\n",
       "        vertical-align: middle;\n",
       "    }\n",
       "\n",
       "    .dataframe tbody tr th {\n",
       "        vertical-align: top;\n",
       "    }\n",
       "\n",
       "    .dataframe thead th {\n",
       "        text-align: right;\n",
       "    }\n",
       "</style>\n",
       "<table border=\"1\" class=\"dataframe\">\n",
       "  <thead>\n",
       "    <tr style=\"text-align: right;\">\n",
       "      <th></th>\n",
       "      <th>Line ID</th>\n",
       "      <th>Day 14</th>\n",
       "      <th>Day 21</th>\n",
       "    </tr>\n",
       "  </thead>\n",
       "  <tbody>\n",
       "    <tr>\n",
       "      <th>0</th>\n",
       "      <td>B18WT-1</td>\n",
       "      <td>33.90</td>\n",
       "      <td>61.20</td>\n",
       "    </tr>\n",
       "    <tr>\n",
       "      <th>1</th>\n",
       "      <td>B18WT-2</td>\n",
       "      <td>32.90</td>\n",
       "      <td>59.15</td>\n",
       "    </tr>\n",
       "    <tr>\n",
       "      <th>2</th>\n",
       "      <td>B18WT-3</td>\n",
       "      <td>35.80</td>\n",
       "      <td>63.15</td>\n",
       "    </tr>\n",
       "    <tr>\n",
       "      <th>3</th>\n",
       "      <td>B18WT-4</td>\n",
       "      <td>32.45</td>\n",
       "      <td>58.20</td>\n",
       "    </tr>\n",
       "    <tr>\n",
       "      <th>4</th>\n",
       "      <td>B18WT-5</td>\n",
       "      <td>37.90</td>\n",
       "      <td>68.75</td>\n",
       "    </tr>\n",
       "    <tr>\n",
       "      <th>5</th>\n",
       "      <td>B18WT-6</td>\n",
       "      <td>28.60</td>\n",
       "      <td>50.35</td>\n",
       "    </tr>\n",
       "    <tr>\n",
       "      <th>6</th>\n",
       "      <td>B18WT-7</td>\n",
       "      <td>33.45</td>\n",
       "      <td>59.15</td>\n",
       "    </tr>\n",
       "    <tr>\n",
       "      <th>7</th>\n",
       "      <td>B18WT-8</td>\n",
       "      <td>41.70</td>\n",
       "      <td>74.25</td>\n",
       "    </tr>\n",
       "    <tr>\n",
       "      <th>8</th>\n",
       "      <td>B18WT-9</td>\n",
       "      <td>30.60</td>\n",
       "      <td>55.65</td>\n",
       "    </tr>\n",
       "    <tr>\n",
       "      <th>9</th>\n",
       "      <td>B18WT-10</td>\n",
       "      <td>33.70</td>\n",
       "      <td>61.00</td>\n",
       "    </tr>\n",
       "    <tr>\n",
       "      <th>10</th>\n",
       "      <td>B18WT-11</td>\n",
       "      <td>29.30</td>\n",
       "      <td>54.65</td>\n",
       "    </tr>\n",
       "    <tr>\n",
       "      <th>11</th>\n",
       "      <td>B18WT-12</td>\n",
       "      <td>38.75</td>\n",
       "      <td>69.00</td>\n",
       "    </tr>\n",
       "    <tr>\n",
       "      <th>12</th>\n",
       "      <td>B18WT-13</td>\n",
       "      <td>36.85</td>\n",
       "      <td>66.70</td>\n",
       "    </tr>\n",
       "  </tbody>\n",
       "</table>\n",
       "</div>"
      ],
      "text/plain": [
       "     Line ID  Day 14  Day 21\n",
       "0    B18WT-1   33.90   61.20\n",
       "1    B18WT-2   32.90   59.15\n",
       "2    B18WT-3   35.80   63.15\n",
       "3    B18WT-4   32.45   58.20\n",
       "4    B18WT-5   37.90   68.75\n",
       "5    B18WT-6   28.60   50.35\n",
       "6    B18WT-7   33.45   59.15\n",
       "7    B18WT-8   41.70   74.25\n",
       "8    B18WT-9   30.60   55.65\n",
       "9   B18WT-10   33.70   61.00\n",
       "10  B18WT-11   29.30   54.65\n",
       "11  B18WT-12   38.75   69.00\n",
       "12  B18WT-13   36.85   66.70"
      ]
     },
     "execution_count": 5,
     "metadata": {},
     "output_type": "execute_result"
    }
   ],
   "source": [
    "wtdf.head(13)"
   ]
  },
  {
   "cell_type": "markdown",
   "metadata": {},
   "source": [
    "Describe dataset variables"
   ]
  },
  {
   "cell_type": "code",
   "execution_count": 7,
   "metadata": {
    "collapsed": true
   },
   "outputs": [
    {
     "data": {
      "text/html": [
       "<div>\n",
       "<style scoped>\n",
       "    .dataframe tbody tr th:only-of-type {\n",
       "        vertical-align: middle;\n",
       "    }\n",
       "\n",
       "    .dataframe tbody tr th {\n",
       "        vertical-align: top;\n",
       "    }\n",
       "\n",
       "    .dataframe thead th {\n",
       "        text-align: right;\n",
       "    }\n",
       "</style>\n",
       "<table border=\"1\" class=\"dataframe\">\n",
       "  <thead>\n",
       "    <tr style=\"text-align: right;\">\n",
       "      <th></th>\n",
       "      <th>Day 14</th>\n",
       "      <th>Day 21</th>\n",
       "    </tr>\n",
       "  </thead>\n",
       "  <tbody>\n",
       "    <tr>\n",
       "      <th>count</th>\n",
       "      <td>171.000000</td>\n",
       "      <td>171.000000</td>\n",
       "    </tr>\n",
       "    <tr>\n",
       "      <th>mean</th>\n",
       "      <td>40.704378</td>\n",
       "      <td>71.934033</td>\n",
       "    </tr>\n",
       "    <tr>\n",
       "      <th>std</th>\n",
       "      <td>7.111247</td>\n",
       "      <td>14.010743</td>\n",
       "    </tr>\n",
       "    <tr>\n",
       "      <th>min</th>\n",
       "      <td>25.200000</td>\n",
       "      <td>37.000000</td>\n",
       "    </tr>\n",
       "    <tr>\n",
       "      <th>25%</th>\n",
       "      <td>35.550000</td>\n",
       "      <td>62.600000</td>\n",
       "    </tr>\n",
       "    <tr>\n",
       "      <th>50%</th>\n",
       "      <td>41.780929</td>\n",
       "      <td>73.000000</td>\n",
       "    </tr>\n",
       "    <tr>\n",
       "      <th>75%</th>\n",
       "      <td>46.387978</td>\n",
       "      <td>83.600000</td>\n",
       "    </tr>\n",
       "    <tr>\n",
       "      <th>max</th>\n",
       "      <td>52.622822</td>\n",
       "      <td>99.450000</td>\n",
       "    </tr>\n",
       "  </tbody>\n",
       "</table>\n",
       "</div>"
      ],
      "text/plain": [
       "           Day 14      Day 21\n",
       "count  171.000000  171.000000\n",
       "mean    40.704378   71.934033\n",
       "std      7.111247   14.010743\n",
       "min     25.200000   37.000000\n",
       "25%     35.550000   62.600000\n",
       "50%     41.780929   73.000000\n",
       "75%     46.387978   83.600000\n",
       "max     52.622822   99.450000"
      ]
     },
     "execution_count": 7,
     "metadata": {},
     "output_type": "execute_result"
    }
   ],
   "source": [
    "wtdf.describe()"
   ]
  },
  {
   "cell_type": "markdown",
   "metadata": {},
   "source": [
    "Print dataset in full for subset indexing"
   ]
  },
  {
   "cell_type": "code",
   "execution_count": 8,
   "metadata": {
    "collapsed": true
   },
   "outputs": [
    {
     "name": "stdout",
     "output_type": "stream",
     "text": [
      "      Line ID     Day 14     Day 21\n",
      "0     B18WT-1  33.900000  61.200000\n",
      "1     B18WT-2  32.900000  59.150000\n",
      "2     B18WT-3  35.800000  63.150000\n",
      "3     B18WT-4  32.450000  58.200000\n",
      "4     B18WT-5  37.900000  68.750000\n",
      "5     B18WT-6  28.600000  50.350000\n",
      "6     B18WT-7  33.450000  59.150000\n",
      "7     B18WT-8  41.700000  74.250000\n",
      "8     B18WT-9  30.600000  55.650000\n",
      "9    B18WT-10  33.700000  61.000000\n",
      "10   B18WT-11  29.300000  54.650000\n",
      "11   B18WT-12  38.750000  69.000000\n",
      "12   B18WT-13  36.850000  66.700000\n",
      "13   B18WT-14  34.600000  62.650000\n",
      "14   B18WT-15  39.500000  70.450000\n",
      "15   B18WT-16  27.750000  49.750000\n",
      "16   B18WT-17  43.700000  78.000000\n",
      "17   B18WT-18        NaN        NaN\n",
      "18   B18WT-19  39.400000  70.000000\n",
      "19   B18WT-20  27.600000  48.000000\n",
      "20   B18WT-21  37.800000  68.500000\n",
      "21   B18WT-22  32.400000  57.300000\n",
      "22   B18WT-23        NaN        NaN\n",
      "23   B18WT-24  28.800000  52.700000\n",
      "24   B18WT-25  38.850000  69.000000\n",
      "25   B18WT-26  46.250000  83.250000\n",
      "26   B18WT-27  35.300000  62.850000\n",
      "27   B18WT-28  36.500000  65.000000\n",
      "28   B18WT-29  51.050000  91.100000\n",
      "29   B18WT-30  46.400000  83.600000\n",
      "..        ...        ...        ...\n",
      "150   C87WT-7  43.908849  80.000000\n",
      "151   C87WT-8  44.115674  80.600000\n",
      "152   C87WT-9  42.795519  76.000000\n",
      "153  C87WT-10  44.109692  80.350000\n",
      "154  C87WT-11  41.155793  74.000000\n",
      "155  C87WT-12  48.440588  88.450000\n",
      "156  C87WT-13  47.345448  86.000000\n",
      "157  C87WT-14  43.426069  77.400000\n",
      "158  C87WT-15  42.428506  75.800000\n",
      "159  C87WT-16  49.877154  89.350000\n",
      "160  C87WT-17        NaN        NaN\n",
      "161  C87WT-18  50.151883  89.550000\n",
      "162  C87WT-19  41.780929  74.400000\n",
      "163  C87WT-20  50.622676  90.000000\n",
      "164  C87WT-21  47.252489  85.600000\n",
      "165  C87WT-22  49.537823  88.950000\n",
      "166  C87WT-23  42.205853  75.000000\n",
      "167  C87WT-24  50.645856  90.000000\n",
      "168  C87WT-25  43.550000  68.560943\n",
      "169  C87WT-26  46.200000  76.839034\n",
      "170  C87WT-27  43.300000  65.080953\n",
      "171  C87WT-28  45.400000  75.889639\n",
      "172  C87WT-29  37.700000  49.028564\n",
      "173  C87WT-30  46.350000  80.975400\n",
      "174  C87WT-31  50.000000  91.872789\n",
      "175  C87WT-32  37.350000  48.705769\n",
      "176  C87WT-33  30.500000  44.292224\n",
      "177  C87WT-34  32.000000  47.276489\n",
      "178  C87WT-35  44.000000  71.325561\n",
      "179  C87WT-36  46.600000  84.135031\n",
      "\n",
      "[180 rows x 3 columns]\n"
     ]
    }
   ],
   "source": [
    "print(wtdf)"
   ]
  },
  {
   "cell_type": "markdown",
   "metadata": {},
   "source": [
    "Create subsets for chi-squared tests (by line)"
   ]
  },
  {
   "cell_type": "code",
   "execution_count": 9,
   "metadata": {
    "collapsed": true
   },
   "outputs": [
    {
     "name": "stdout",
     "output_type": "stream",
     "text": [
      "     Line ID  Day 14  Day 21\n",
      "0    B18WT-1   33.90   61.20\n",
      "1    B18WT-2   32.90   59.15\n",
      "2    B18WT-3   35.80   63.15\n",
      "3    B18WT-4   32.45   58.20\n",
      "4    B18WT-5   37.90   68.75\n",
      "5    B18WT-6   28.60   50.35\n",
      "6    B18WT-7   33.45   59.15\n",
      "7    B18WT-8   41.70   74.25\n",
      "8    B18WT-9   30.60   55.65\n",
      "9   B18WT-10   33.70   61.00\n",
      "10  B18WT-11   29.30   54.65\n",
      "11  B18WT-12   38.75   69.00\n",
      "12  B18WT-13   36.85   66.70\n",
      "13  B18WT-14   34.60   62.65\n",
      "14  B18WT-15   39.50   70.45\n",
      "15  B18WT-16   27.75   49.75\n",
      "16  B18WT-17   43.70   78.00\n",
      "17  B18WT-18     NaN     NaN\n",
      "18  B18WT-19   39.40   70.00\n",
      "19  B18WT-20   27.60   48.00\n",
      "20  B18WT-21   37.80   68.50\n",
      "21  B18WT-22   32.40   57.30\n",
      "22  B18WT-23     NaN     NaN\n",
      "23  B18WT-24   28.80   52.70\n",
      "24  B18WT-25   38.85   69.00\n",
      "25  B18WT-26   46.25   83.25\n",
      "26  B18WT-27   35.30   62.85\n",
      "27  B18WT-28   36.50   65.00\n",
      "28  B18WT-29   51.05   91.10\n",
      "29  B18WT-30   46.40   83.60\n",
      "30  B18WT-31   47.55   86.35\n",
      "31  B18WT-32   42.25   75.65\n",
      "32  B18WT-33   34.35   62.55\n",
      "33  B18WT-34   28.75   51.55\n",
      "34  B18WT-35   48.00   87.15\n",
      "35  B18WT-36   43.15   77.25\n"
     ]
    }
   ],
   "source": [
    "B18wt_stems_df = wtdf.iloc[0:36, [0,1,2]]\n",
    "print(B18wt_stems_df)"
   ]
  },
  {
   "cell_type": "code",
   "execution_count": 10,
   "metadata": {
    "collapsed": true
   },
   "outputs": [
    {
     "name": "stdout",
     "output_type": "stream",
     "text": [
      "    Day 14\n",
      "0    33.90\n",
      "1    32.90\n",
      "2    35.80\n",
      "3    32.45\n",
      "4    37.90\n",
      "5    28.60\n",
      "6    33.45\n",
      "7    41.70\n",
      "8    30.60\n",
      "9    33.70\n",
      "10   29.30\n",
      "11   38.75\n",
      "12   36.85\n",
      "13   34.60\n",
      "14   39.50\n",
      "15   27.75\n",
      "16   43.70\n",
      "17     NaN\n",
      "18   39.40\n",
      "19   27.60\n",
      "20   37.80\n",
      "21   32.40\n",
      "22     NaN\n",
      "23   28.80\n",
      "24   38.85\n",
      "25   46.25\n",
      "26   35.30\n",
      "27   36.50\n",
      "28   51.05\n",
      "29   46.40\n",
      "30   47.55\n",
      "31   42.25\n",
      "32   34.35\n",
      "33   28.75\n",
      "34   48.00\n",
      "35   43.15\n"
     ]
    }
   ],
   "source": [
    "B18wt_stems_used14_df = wtdf.iloc[0:36, [1]]\n",
    "print(B18wt_stems_used14_df)"
   ]
  },
  {
   "cell_type": "code",
   "execution_count": 11,
   "metadata": {
    "collapsed": true
   },
   "outputs": [
    {
     "name": "stdout",
     "output_type": "stream",
     "text": [
      "    Day 14\n",
      "0    26.35\n",
      "1    24.95\n",
      "2    37.00\n",
      "3    26.45\n",
      "4    31.75\n",
      "5    31.70\n",
      "6    24.50\n",
      "7    41.35\n",
      "8    33.50\n",
      "9    42.80\n",
      "10   33.35\n",
      "11   30.20\n",
      "12   39.90\n",
      "13   40.95\n",
      "14   26.55\n",
      "15   32.15\n",
      "16   29.60\n",
      "17   32.50\n",
      "18   26.80\n",
      "19   31.10\n",
      "20   37.10\n",
      "21   32.15\n",
      "22   38.35\n",
      "23   36.15\n",
      "24   41.15\n",
      "25   46.20\n",
      "26   43.30\n",
      "27   44.00\n",
      "28   45.10\n",
      "29   40.75\n",
      "30   43.20\n",
      "31   47.00\n",
      "32   46.20\n",
      "33   33.35\n",
      "34   37.55\n",
      "35   43.60\n"
     ]
    }
   ],
   "source": [
    "B18mt_stems_used_df = mtdf.iloc[0:36, [1]]\n",
    "print(B18mt_stems_used_df)"
   ]
  },
  {
   "cell_type": "code",
   "execution_count": 12,
   "metadata": {},
   "outputs": [
    {
     "name": "stdout",
     "output_type": "stream",
     "text": [
      "    Day 14  Day 14\n",
      "0    33.90   26.35\n",
      "1    32.90   24.95\n",
      "2    35.80   37.00\n",
      "3    32.45   26.45\n",
      "4    37.90   31.75\n",
      "5    28.60   31.70\n",
      "6    33.45   24.50\n",
      "7    41.70   41.35\n",
      "8    30.60   33.50\n",
      "9    33.70   42.80\n",
      "10   29.30   33.35\n",
      "11   38.75   30.20\n",
      "12   36.85   39.90\n",
      "13   34.60   40.95\n",
      "14   39.50   26.55\n",
      "15   27.75   32.15\n",
      "16   43.70   29.60\n",
      "18   39.40   26.80\n",
      "19   27.60   31.10\n",
      "20   37.80   37.10\n",
      "21   32.40   32.15\n",
      "23   28.80   36.15\n",
      "24   38.85   41.15\n",
      "25   46.25   46.20\n",
      "26   35.30   43.30\n",
      "27   36.50   44.00\n",
      "28   51.05   45.10\n",
      "29   46.40   40.75\n",
      "30   47.55   43.20\n",
      "31   42.25   47.00\n",
      "32   34.35   46.20\n",
      "33   28.75   33.35\n",
      "34   48.00   37.55\n",
      "35   43.15   43.60\n"
     ]
    }
   ],
   "source": [
    "###test_df = B18mt_stems_used_df.append(B18wt_stems_used14_df)\n",
    "test_df = pd.concat([B18wt_stems_used14_df, B18mt_stems_used_df], axis=1, sort=False)\n",
    "test_df = test_df.dropna(subset=['Day 14'])\n",
    "print(test_df)"
   ]
  },
  {
   "cell_type": "markdown",
   "metadata": {},
   "source": [
    "# Chi-squared testing"
   ]
  },
  {
   "cell_type": "markdown",
   "metadata": {},
   "source": [
    "T-tests for wet stems"
   ]
  },
  {
   "cell_type": "code",
   "execution_count": 13,
   "metadata": {},
   "outputs": [
    {
     "name": "stdout",
     "output_type": "stream",
     "text": [
      "dof=33\n",
      "[[30.46584092 29.78415908]\n",
      " [29.25226385 28.59773615]\n",
      " [36.81183766 35.98816234]\n",
      " [29.78320382 29.11679618]\n",
      " [35.21901776 34.43098224]\n",
      " [30.49112377 29.80887623]\n",
      " [29.30282956 28.64717044]\n",
      " [41.99482304 41.05517696]\n",
      " [32.41262079 31.68737921]\n",
      " [38.68276896 37.81723104]\n",
      " [31.67941798 30.97058202]\n",
      " [34.86505778 34.08494222]\n",
      " [38.80918324 37.94081676]\n",
      " [38.20239471 37.34760529]\n",
      " [33.39865216 32.65134784]\n",
      " [30.28886093 29.61113907]\n",
      " [37.06466621 36.23533379]\n",
      " [33.47450072 32.72549928]\n",
      " [29.68207239 29.01792761]\n",
      " [37.87371759 37.02628241]\n",
      " [32.64016649 31.90983351]\n",
      " [32.84242934 32.10757066]\n",
      " [40.45256885 39.54743115]\n",
      " [46.74799988 45.70200012]\n",
      " [39.7446489  38.8553511 ]\n",
      " [40.70539741 39.79460259]\n",
      " [48.61893119 47.53106881]\n",
      " [44.06801719 43.08198281]\n",
      " [45.88838279 44.86161721]\n",
      " [45.12989713 44.12010287]\n",
      " [40.73068026 39.81931974]\n",
      " [31.40130657 30.69869343]\n",
      " [43.25896582 42.29103418]\n",
      " [43.86575435 42.88424565]]\n",
      "probability=0.950, critical=47.400, stat=22.790\n",
      "Independent (fail to reject H0)\n",
      "significance=0.050, p=0.909\n",
      "Independent (fail to reject H0)\n"
     ]
    }
   ],
   "source": [
    "# chi-squared test with similar proportions\n",
    "from scipy.stats import chi2_contingency\n",
    "from scipy.stats import chi2\n",
    "# contingency table\n",
    "stat, p, dof, expected = chi2_contingency(test_df)\n",
    "print('dof=%d' % dof)\n",
    "print(expected)\n",
    "# interpret test-statistic\n",
    "prob = 0.95\n",
    "critical = chi2.ppf(prob, dof)\n",
    "print('probability=%.3f, critical=%.3f, stat=%.3f' % (prob, critical, stat))\n",
    "if abs(stat) >= critical:\n",
    "    print('Dependent (reject H0)')\n",
    "else:\n",
    "    print('Independent (fail to reject H0)')\n",
    "# interpret p-value\n",
    "alpha = 1.0 - prob\n",
    "print('significance=%.3f, p=%.3f' % (alpha, p))\n",
    "if p <= alpha:\n",
    "    print('Dependent (reject H0)')\n",
    "else:\n",
    "    print('Independent (fail to reject H0)')"
   ]
  },
  {
   "cell_type": "code",
   "execution_count": null,
   "metadata": {},
   "outputs": [],
   "source": []
  }
 ],
 "metadata": {
  "kernelspec": {
   "display_name": "Python 3",
   "language": "python",
   "name": "python3"
  },
  "language_info": {
   "codemirror_mode": {
    "name": "ipython",
    "version": 3
   },
   "file_extension": ".py",
   "mimetype": "text/x-python",
   "name": "python",
   "nbconvert_exporter": "python",
   "pygments_lexer": "ipython3",
   "version": "3.6.8"
  }
 },
 "nbformat": 4,
 "nbformat_minor": 2
}
