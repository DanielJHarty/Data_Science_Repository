{
 "cells": [
  {
   "cell_type": "markdown",
   "metadata": {},
   "source": [
    "# Advanced Logistic Regression"
   ]
  },
  {
   "cell_type": "markdown",
   "metadata": {},
   "source": [
    "In the previous sprint you became familiar with regression models. In particular, you were introduced to linear methods for regression, such as linear regression, ridge regression and lasso regression. In addition, you were introduced to a few non-linear methods for regression such as a regression tree and a random forest regressor. In regard to this, it is important to bear in mind that the response you are modelling is quantitative. This means that the response takes on numeric values. In the present sprint you will learn about methods for **classification**. The defining characteristic of a classification problem is due to the response being qualitative. A qualitative variable, equivalently called a categorical variable, is a variable for which there is a finite set of possible categories of classes that can be realised. The process of trying to predict a categorical response is called classification. In classification problems the training data is of the form\n",
    "\n",
    "$$\n",
    "\\{(\\underline{x}_{i}, g_{i}), i = 1, \\cdots, N\\}\n",
    "$$\n",
    "\n",
    "In the expression above $N$ denotes the number of observations in the dataset. $\\underline{x}_{i}$ denotes an observation where the line under $x_{i}$ clarifies that the observation is a vector with multiple features. $g_{i}$ is the response we are trying to classify and is of the form\n",
    "\n",
    "$$\n",
    "g_{i} = \\{0, 1, 2, \\cdots, K-1\\}\n",
    "$$\n",
    "\n",
    "where $K$ is the number of classes that the response can take on. If $K = 2$, then the classification problem is called **binary classification**. If $K > 2$, then the problem is called **multi-class classification**.\n",
    "\n",
    "Let us consider an example to solidify our understanding of the concept of classification. Note that this example is completely fictitious and is only aimed at helping you understand the concept of classification. With that out of the way, on to the problem: Explore would like its current EDSA students (that's you) to build a model to be able to determine if a new student enrolling into the course in 2020 will be able to pass. For this purpose, Explore has provided you with a dataset. Each observation is of the form\n",
    "\n",
    "$$\n",
    "\\underline{x}_{i} = (x_{i,1}, x_{i,2}, x_{i,3})\n",
    "$$\n",
    "where $x_{i,1} = $ age, $x_{i,2} = $ average mark in matric and $x_{i,3} = $ entrance exam score. We have $i = 1, \\cdots, 200 $ which means that Explore has given you training data on 200 past students. The response corresponding to each observation is $1$ if the student passed and $0$ if the student failed. Hence,\n",
    "\n",
    "$$\n",
    "g_{i} = \\{0, 1\\}\n",
    "$$\n",
    "\n",
    "Since $K = 2$, we are dealing with a binary classification problem. Now our job is to train a model, let's denote the estimated model by $\\hat{f}(\\cdot)$. The purpose of our estimated model is to take, as input, a new student's attributes and produce, as output, an indicator which will inform Explore about whether the student is likely to pass in 2020. Let the attributes of a new student be denoted by the observation $\\underline{x}_{0}$. Our estimated model should do something like\n",
    "\n",
    "$$\n",
    "    \\hat{f}(\\underline{x}_{0}) =\\left\\{\n",
    "                \\begin{array}{ll}\n",
    "                  1 \\ \\text{if the student is likely to pass} \\\\\n",
    "                  0 \\ \\text{if the student is unlikely to pass}\n",
    "                \\end{array}\n",
    "              \\right.\n",
    "$$\n",
    "\n",
    "Some classification models such as the support vector classifier do exactly this. Others, such as logistic regression do not output either a $0$ or a $1$. Instead, they give us a value between $0$ and $1$ which denotes the probability of a particular class being true. So for example, we might get something like $\\hat{f}(\\underline{x}_{0}) = 0.6$ as an output from the model. In this case we would need to assign the observation to the class that has the highest probability of occuring. So if the probability of a student passing is $0.6$, then it is more likely for the student to pass and therefore we would set the output to $\\hat{y}_{i} = 1$ for this student. The notation $\\hat{y}_{i}$ denotes our class prediction\n",
    "\n",
    "In this train we will implement Logistic regression. Both of these methods are linear methods for classification. This means that the decision boundary is a $p$-dimensional plane. So, if $p = 1$, the decision boundary is a straight line, for example. The term decision boundary refers to how points are assigned to a particular class. In the example on classifying students above, we stated that we assign the student to the class that has the highest probability of occuring. This is equivalent to saying\n",
    "\n",
    "$$\n",
    "    \\hat{y} =\\left\\{\n",
    "                \\begin{array}{ll}\n",
    "                  1 \\ \\hat{f}(\\underline{x}_{i}) > 0.5 \\\\\n",
    "                  0 \\ \\hat{f}(\\underline{x}_{i}) <= 0.5\n",
    "                \\end{array}\n",
    "              \\right.\n",
    "$$\n",
    "\n",
    "The value $0.5$ is called the **threshold**. It is something that we can specify depending on how willing we are to accept certain types of errors. We will explore this further in the notebook.\n",
    "\n",
    "### Data description\n",
    "\n",
    "For the purpose of this train we will use one of Sklearn's built-in dataset. The benefit of doing so is that the dataset is easy to access and does not require preprocessing. We will use the Wisconsin breast cancer dataset. The dataset consists of $569$ observations each with $30$ features. As a basis the features compose ten real-valued measurements that are computed for each cell nucleus, namely:\n",
    "\n",
    "    a) radius (mean of distances from center to points on the perimeter)\n",
    "    b) texture (standard deviation of gray-scale values)\n",
    "    c) perimeter\n",
    "    d) area\n",
    "    e) smoothness (local variation in radius lengths)\n",
    "    f) compactness (perimeter^2 / area - 1.0)\n",
    "    g) concavity (severity of concave portions of the contour)\n",
    "    h) concave points (number of concave portions of the contour)\n",
    "    i) symmetry\n",
    "    j) fractal dimension (\"coastline approximation\" - 1)\n",
    "\n",
    "Given this, the  mean, standard error and \"worst\" or largest (mean of the three largest values) of these features were computed, resulting in a total of $30$ features.The response is a binary variable where $1$ indicates that the patient has breast cancer and $0$ indicates that the patient does not have breast cancer."
   ]
  },
  {
   "cell_type": "markdown",
   "metadata": {},
   "source": [
    "### Getting started \n",
    "\n",
    "First we import the libraries that we will need"
   ]
  },
  {
   "cell_type": "code",
   "execution_count": 1,
   "metadata": {},
   "outputs": [],
   "source": [
    "import numpy as np\n",
    "import matplotlib.pyplot as plt\n",
    "from sklearn.datasets import load_breast_cancer\n",
    "from sklearn.linear_model import LogisticRegression\n",
    "from sklearn.model_selection import GridSearchCV\n",
    "from sklearn.model_selection import train_test_split\n",
    "from sklearn.metrics import classification_report, accuracy_score, log_loss\n",
    "\n",
    "import warnings\n",
    "warnings.filterwarnings(\"ignore\")"
   ]
  },
  {
   "cell_type": "code",
   "execution_count": 2,
   "metadata": {},
   "outputs": [],
   "source": [
    "X, y = load_breast_cancer(return_X_y=True)"
   ]
  },
  {
   "cell_type": "markdown",
   "metadata": {},
   "source": [
    "### Logistic regression\n",
    "\n",
    "The first model that we will discuss is logistic regression, a linear method for classification. Note that the name given to this model is a bit confusing since it has the word regression in it. To be clear, logistic regression is a classification model. Its connection to regression will become clear below. To simplify our discussion we will restrict our attention to binary classifcation. Recall from the discussion on linear regression that the form of a linear model for $p$ variables is\n",
    "\n",
    "$$\n",
    "y_{i} = \\beta_{0} + \\beta_{1}x_{i,1} + \\cdots + \\beta_{p}x_{i,p}, \\ i = 1, \\cdots, N\n",
    "$$\n",
    "Logistic regression uses a similar strategy. However, it does not model the response $y_{i}$ directly, rather it models a transformation of the response given by the formula\n",
    "\n",
    "$$\n",
    "\\log \\Bigg[\\frac{P(Y = 1 \\mid \\underline{X} = \\underline{x}_{i})}{P(Y = 0 \\mid \\underline{X} = \\underline{x}_{i})}\\Bigg] = \\beta_{0} + \\beta_{1}x_{i,1} + \\cdots + \\beta_{p}x_{i,p}, \\ i = 1, \\cdots, N\n",
    "$$\n",
    "\n",
    "where the expression $P(Y = k \\mid \\underline{X} = \\underline{x}_{i})$ for $k = 0, 1$ and $i = 1, \\cdots, N$ is the probability of the response being equal to one of the two possible categorical levels given that the input is equal to a particular observation. Given the expression above, it is possible to show that\n",
    "\n",
    "$$\n",
    "P(Y = 1 \\mid \\underline{X} = \\underline{x}) = \\frac{e^{\\beta_{0} + \\sum_{j = 1}^{p} \\beta_{i}x_{i, j}}}{1 + e^{\\beta_{0} + \\sum_{j = 1}^{p} \\beta_{i}x_{i, j}}}\n",
    "$$\n",
    "\n",
    "and\n",
    "\n",
    "$$\\label{1}\n",
    "P(Y = 0 \\mid \\underline{X} = \\underline{x}) = \\frac{1}{1 + e^{\\beta_{0} + \\sum_{j = 1}^{p} \\beta_{i}x_{i, j}}}\n",
    "$$\n",
    "\n",
    "You need not know how to get the expression above, but you should note that\n",
    "\n",
    "$$\n",
    "P(Y = 0 \\mid \\underline{X} = \\underline{x}) + P(Y = 1 \\mid \\underline{X} = \\underline{x}) = 1\n",
    "$$\n",
    "\n",
    "which means that we have a valid probability distribution over the binary categories. Given the discussion above, you should have an intuition as to why the word regression is used in logistic regression. Namely, that the model is a regression over a transformed version of the response. Now, you might be wondering why logistic is part of the name. Well, logistic references the logit transformation, which is given as\n",
    "\n",
    "$$\n",
    "\\phi(z) = \\frac{1}{1 + e^{-z}} = \\frac{e^{z}}{1 + e^{z}}\n",
    "$$\n",
    "where\n",
    "$$\n",
    "z = \\beta_{0} + \\beta_{1}x_{i,1} + \\cdots + \\beta_{p}x_{i,p}, \\ i = 1, \\cdots, N\n",
    "$$\n",
    "\n",
    "Do you notice where we used this transformation? Hopefully, you can see that the logit function is exactly what is used to transform the response. Let's take a look at this function"
   ]
  },
  {
   "cell_type": "code",
   "execution_count": 3,
   "metadata": {},
   "outputs": [],
   "source": [
    "def logit(z):\n",
    "    return 1 / (1 + np.exp(-z))"
   ]
  },
  {
   "cell_type": "code",
   "execution_count": 4,
   "metadata": {},
   "outputs": [
    {
     "data": {
      "image/png": "[encoded data removed]",
      "text/plain": [
       "<Figure size 576x576 with 1 Axes>"
      ]
     },
     "metadata": {
      "needs_background": "light"
     },
     "output_type": "display_data"
    }
   ],
   "source": [
    "z = np.linspace(-6, 6, 100)\n",
    "y_trans = logit(z)\n",
    "fig = plt.figure(figsize=(8,8))\n",
    "ax = fig.add_subplot(111)\n",
    "ax.plot(z, y_trans, c='black')\n",
    "plt.title('Logit function')\n",
    "plt.xlabel('z')\n",
    "plt.ylabel('y')\n",
    "plt.axhline(0.5, ls='--', c='red')\n",
    "plt.grid()\n",
    "plt.show()"
   ]
  },
  {
   "cell_type": "markdown",
   "metadata": {},
   "source": [
    "Let's consider the plot above. For your convenience, a red line has been plotted at the point $y = 0.5$. Note that although we have specified $z$ to be in the range $[-6, 6]$, in practical applications $z = \\beta_{0} + \\sum_{j = 1}^{p} \\beta_{i}x_{i, j}$. The curve is such that $y = \\phi(z)$. So what does this mean? Well, if $z$ becomes large then the chance that it will be assigned to class label $1$ becomes greater. If $y = 0.5$ is the threshold, then every observation $x$ for which $z > 0$ will be assigned to class $1$. Furthermore, all $z < 0$ will be assigned to class $0$. The point of greatest uncertainty is when $z = 0$. For this event, we might just randomly assign $x$ to any class label. Typically, however, the condition $z < 0$ will be replaced by $z \\leq 0$ and in doing so we will account for all possibilities.\n",
    "\n",
    "### Loss functions\n",
    "\n",
    "In the regression sprint you came across different loss function such as mean squared error or root mean log squared error. There are a number of different loss functions for classification too. Here we introduce the log-loss. Please refer to https://scikit-learn.org/stable/modules/classes.html#module-sklearn.metrics to look at the complete list of possible loss functions available in Sklearn. The log loss is defined as  \n",
    "\n",
    "$$\n",
    "LL(y,\\hat{y}) = -\\log P(y|\\hat{y}) = -(y \\log(\\hat{y}) + (1 - y) \\log(1 - \\hat{y}))\n",
    "$$\n",
    "\n",
    "where $y$ is the true class label and $\\hat{y}$ is what out model has predicted. Log loss measures the uncertainty in our models predictions. It does so by measuring how close the probability predictions of the model are to the true labels. Let us now fit a logistic regression model to our dataset. Luckily for us, fitting a classification model is done in exactly the same way as a regression model in Sklearn."
   ]
  },
  {
   "cell_type": "code",
   "execution_count": null,
   "metadata": {},
   "outputs": [
    {
     "name": "stdout",
     "output_type": "stream",
     "text": [
      "The log loss error for our model is:  0.07550289995869602\n"
     ]
    }
   ],
   "source": [
    "# get training and testing data \n",
    "X_train, X_test, y_train, y_test = train_test_split(X, y, test_size=0.3, random_state=42)\n",
    "# define the model \n",
    "logistic_reg = LogisticRegression(C=np.inf, solver='lbfgs')\n",
    "# fit the model \n",
    "logistic_reg.fit(X_train, y_train)\n",
    "# get predictions on the test set \n",
    "y_hat = logistic_reg.predict_proba(X_test)\n",
    "# calculate the loss \n",
    "print(\"The log loss error for our model is: \", log_loss(y_test, y_hat))"
   ]
  },
  {
   "cell_type": "markdown",
   "metadata": {},
   "source": [
    "Note that in the cell above we used the `predict_proba` function to return the class probabilities from the model. Another loss function is the accuracy score. This measures the extent to which the models predicted labels are correct."
   ]
  },
  {
   "cell_type": "code",
   "execution_count": null,
   "metadata": {},
   "outputs": [
    {
     "name": "stdout",
     "output_type": "stream",
     "text": [
      "The accuracy for our model is:  0.9707602339181286\n"
     ]
    }
   ],
   "source": [
    "y_hat = logistic_reg.predict(X_test)\n",
    "print(\"The accuracy for our model is: \", accuracy_score(y_test, y_hat))"
   ]
  },
  {
   "cell_type": "markdown",
   "metadata": {},
   "source": [
    "What do you think is the reason for us setting the `C` parameter in the Logistic regression model to such a large value? By the way, `np.inf` is just a very big number. Well, the reason for setting `C` is because by default Sklearn implements a regularised version of the standard logistic regression model that we described above. This is not what we want and by setting the parameter as we have done, we get the result for the standard logistic model. Let's take a look at the predictions"
   ]
  },
  {
   "cell_type": "code",
   "execution_count": null,
   "metadata": {},
   "outputs": [
    {
     "name": "stdout",
     "output_type": "stream",
     "text": [
      "[1 0 0 1 1 0 0 0 1 1 1 0 1 0 1 0 1 1 1 0 1 1 0 1 1 1 1 1 1 0 1 1 1 1 1 1 0\n",
      " 1 0 1 1 0 1 1 1 1 1 1 1 1 0 0 1 1 1 1 1 0 1 1 1 0 0 1 1 1 0 0 1 1 0 0 1 0\n",
      " 1 1 1 0 1 1 0 1 1 0 0 0 0 0 1 1 1 1 1 1 1 1 0 0 1 0 0 1 0 0 1 1 1 0 1 1 0\n",
      " 1 0 0 1 0 1 1 1 0 0 1 1 0 1 0 0 1 1 0 0 0 1 1 1 0 1 1 1 0 1 0 1 1 0 1 0 0\n",
      " 0 1 0 1 1 1 1 0 0 1 1 1 1 1 1 1 0 1 1 1 1 0 1]\n"
     ]
    }
   ],
   "source": [
    "print(y_hat)"
   ]
  },
  {
   "cell_type": "markdown",
   "metadata": {},
   "source": [
    "We can see from the above that the predictions are either $1$ or $0$. To get the probabilities that we discussed earlier we can use another method called `predict_prob`. "
   ]
  },
  {
   "cell_type": "code",
   "execution_count": null,
   "metadata": {},
   "outputs": [
    {
     "name": "stdout",
     "output_type": "stream",
     "text": [
      "[[3.26801592e-01 6.73198408e-01]\n",
      " [1.00000000e+00 4.55902638e-12]\n",
      " [9.99933188e-01 6.68120537e-05]\n",
      " [2.50335674e-03 9.97496643e-01]\n",
      " [1.38761440e-03 9.98612386e-01]\n",
      " [1.00000000e+00 3.87783406e-11]\n",
      " [1.00000000e+00 2.39544193e-15]\n",
      " [9.94022080e-01 5.97791974e-03]\n",
      " [7.35190326e-04 9.99264810e-01]\n",
      " [7.43643110e-03 9.92563569e-01]\n",
      " [6.00600508e-02 9.39939949e-01]\n",
      " [9.99965797e-01 3.42033073e-05]\n",
      " [5.66155290e-03 9.94338447e-01]\n",
      " [9.56646952e-01 4.33530477e-02]\n",
      " [1.90454890e-03 9.98095451e-01]\n",
      " [9.98704251e-01 1.29574878e-03]\n",
      " [1.53606249e-03 9.98463938e-01]\n",
      " [7.13711891e-04 9.99286288e-01]\n",
      " [1.45029252e-03 9.98549707e-01]\n",
      " [9.99999999e-01 5.13212505e-10]\n",
      " [2.11548873e-01 7.88451127e-01]\n",
      " [1.81324678e-02 9.81867532e-01]\n",
      " [1.00000000e+00 3.28288534e-13]\n",
      " [6.40494919e-03 9.93595051e-01]\n",
      " [1.10841336e-02 9.88915866e-01]\n",
      " [6.96715466e-04 9.99303285e-01]\n",
      " [1.61634998e-03 9.98383650e-01]\n",
      " [1.76220920e-02 9.82377908e-01]\n",
      " [8.01769031e-03 9.91982310e-01]\n",
      " [1.00000000e+00 1.70630113e-12]\n",
      " [8.50452266e-03 9.91495477e-01]\n",
      " [1.08674833e-03 9.98913252e-01]\n",
      " [2.99265502e-02 9.70073450e-01]\n",
      " [4.33999212e-02 9.56600079e-01]\n",
      " [2.51830727e-03 9.97481693e-01]\n",
      " [7.79472606e-03 9.92205274e-01]\n",
      " [9.99529517e-01 4.70482844e-04]\n",
      " [4.44775137e-03 9.95552249e-01]\n",
      " [9.99999941e-01 5.93199788e-08]\n",
      " [3.99453207e-01 6.00546793e-01]\n",
      " [4.48486632e-03 9.95515134e-01]\n",
      " [9.99884828e-01 1.15172023e-04]\n",
      " [2.44304901e-03 9.97556951e-01]\n",
      " [2.02663758e-02 9.79733624e-01]\n",
      " [3.27736318e-03 9.96722637e-01]\n",
      " [6.63705099e-02 9.33629490e-01]\n",
      " [1.89539773e-03 9.98104602e-01]\n",
      " [1.40914588e-02 9.85908541e-01]\n",
      " [1.23574766e-01 8.76425234e-01]\n",
      " [3.93158250e-03 9.96068418e-01]\n",
      " [9.99998486e-01 1.51423010e-06]\n",
      " [1.00000000e+00 3.54428368e-12]\n",
      " [1.16438266e-01 8.83561734e-01]\n",
      " [8.15681246e-04 9.99184319e-01]\n",
      " [2.11291151e-03 9.97887088e-01]\n",
      " [3.87020741e-02 9.61297926e-01]\n",
      " [7.31675756e-03 9.92683242e-01]\n",
      " [1.00000000e+00 1.15655290e-16]\n",
      " [3.74919490e-01 6.25080510e-01]\n",
      " [6.61257423e-04 9.99338743e-01]\n",
      " [2.69677908e-02 9.73032209e-01]\n",
      " [9.99999999e-01 5.30566981e-10]\n",
      " [1.00000000e+00 1.47082965e-14]\n",
      " [6.00052293e-02 9.39994771e-01]\n",
      " [3.78943486e-03 9.96210565e-01]\n",
      " [2.33064963e-01 7.66935037e-01]\n",
      " [9.99999903e-01 9.72384371e-08]\n",
      " [1.00000000e+00 6.95749177e-11]\n",
      " [2.52892838e-03 9.97471072e-01]\n",
      " [2.27196662e-02 9.77280334e-01]\n",
      " [9.68969564e-01 3.10304358e-02]\n",
      " [9.99999151e-01 8.49162156e-07]\n",
      " [1.24069243e-03 9.98759308e-01]\n",
      " [8.44726080e-01 1.55273920e-01]\n",
      " [3.62296863e-02 9.63770314e-01]\n",
      " [3.34068495e-03 9.96659315e-01]\n",
      " [3.75308847e-02 9.62469115e-01]\n",
      " [7.31985739e-01 2.68014261e-01]\n",
      " [2.02243370e-03 9.97977566e-01]\n",
      " [2.37960493e-03 9.97620395e-01]\n",
      " [9.99872644e-01 1.27355806e-04]\n",
      " [2.23269215e-03 9.97767308e-01]\n",
      " [4.01405134e-01 5.98594866e-01]\n",
      " [1.00000000e+00 3.67620074e-15]\n",
      " [9.99487477e-01 5.12523316e-04]\n",
      " [9.88807419e-01 1.11925813e-02]\n",
      " [9.99698763e-01 3.01236561e-04]\n",
      " [9.99999999e-01 1.33539283e-09]\n",
      " [4.93829159e-03 9.95061708e-01]\n",
      " [3.24955811e-03 9.96750442e-01]\n",
      " [1.50823861e-02 9.84917614e-01]\n",
      " [1.21973908e-01 8.78026092e-01]\n",
      " [2.50964309e-01 7.49035691e-01]\n",
      " [5.98899825e-03 9.94011002e-01]\n",
      " [1.84080917e-03 9.98159191e-01]\n",
      " [3.71943335e-03 9.96280567e-01]\n",
      " [9.99999999e-01 5.82952008e-10]\n",
      " [9.99999972e-01 2.80557192e-08]\n",
      " [4.62582204e-04 9.99537418e-01]\n",
      " [9.99991071e-01 8.92861287e-06]\n",
      " [9.99996985e-01 3.01530983e-06]\n",
      " [2.81212633e-04 9.99718787e-01]\n",
      " [1.00000000e+00 9.35867052e-13]\n",
      " [9.99830260e-01 1.69739736e-04]\n",
      " [9.63995129e-02 9.03600487e-01]\n",
      " [6.46246798e-02 9.35375320e-01]\n",
      " [1.83038680e-02 9.81696132e-01]\n",
      " [1.00000000e+00 2.17526340e-23]\n",
      " [1.43180744e-02 9.85681926e-01]\n",
      " [9.82874333e-02 9.01712567e-01]\n",
      " [9.99991647e-01 8.35283582e-06]\n",
      " [4.95796899e-03 9.95042031e-01]\n",
      " [8.19966152e-01 1.80033848e-01]\n",
      " [1.00000000e+00 5.84302273e-42]\n",
      " [1.30634034e-01 8.69365966e-01]\n",
      " [1.00000000e+00 5.28419827e-15]\n",
      " [1.57071225e-03 9.98429288e-01]\n",
      " [1.21302604e-01 8.78697396e-01]\n",
      " [2.48986237e-03 9.97510138e-01]\n",
      " [9.99421972e-01 5.78027703e-04]\n",
      " [9.38004311e-01 6.19956891e-02]\n",
      " [1.71813193e-03 9.98281868e-01]\n",
      " [1.28350497e-02 9.87164950e-01]\n",
      " [9.99994919e-01 5.08136888e-06]\n",
      " [4.75211507e-02 9.52478849e-01]\n",
      " [1.00000000e+00 5.54292902e-12]\n",
      " [9.99914825e-01 8.51753942e-05]\n",
      " [2.51769356e-02 9.74823064e-01]\n",
      " [4.23684650e-03 9.95763153e-01]\n",
      " [1.00000000e+00 1.43608963e-11]\n",
      " [1.00000000e+00 2.71756935e-19]\n",
      " [9.98708120e-01 1.29188022e-03]\n",
      " [1.68181896e-01 8.31818104e-01]\n",
      " [1.94839823e-03 9.98051602e-01]\n",
      " [4.80115139e-02 9.51988486e-01]\n",
      " [9.84908838e-01 1.50911624e-02]\n",
      " [7.28726483e-02 9.27127352e-01]\n",
      " [6.66408172e-03 9.93335918e-01]\n",
      " [1.52145588e-01 8.47854412e-01]\n",
      " [9.99354724e-01 6.45276271e-04]\n",
      " [1.04006169e-02 9.89599383e-01]\n",
      " [1.00000000e+00 6.34562327e-21]\n",
      " [7.70164937e-04 9.99229835e-01]\n",
      " [2.90556136e-04 9.99709444e-01]\n",
      " [9.93466877e-01 6.53312319e-03]\n",
      " [1.07557809e-02 9.89244219e-01]\n",
      " [9.99999819e-01 1.80693216e-07]\n",
      " [9.99999978e-01 2.18562719e-08]\n",
      " [9.11210504e-01 8.87894963e-02]\n",
      " [6.86086450e-03 9.93139136e-01]\n",
      " [9.95601487e-01 4.39851301e-03]\n",
      " [1.21045915e-03 9.98789541e-01]\n",
      " [2.70371800e-03 9.97296282e-01]\n",
      " [5.81288925e-02 9.41871107e-01]\n",
      " [1.83557007e-02 9.81644299e-01]\n",
      " [1.00000000e+00 3.94713427e-20]\n",
      " [9.99847361e-01 1.52639278e-04]\n",
      " [2.91149288e-02 9.70885071e-01]\n",
      " [3.48415482e-03 9.96515845e-01]\n",
      " [3.81078717e-04 9.99618921e-01]\n",
      " [1.04819001e-05 9.99989518e-01]\n",
      " [1.16097559e-02 9.88390244e-01]\n",
      " [9.17399094e-03 9.90826009e-01]\n",
      " [5.33594892e-03 9.94664051e-01]\n",
      " [9.80868879e-01 1.91311213e-02]\n",
      " [8.75374984e-03 9.91246250e-01]\n",
      " [8.00990814e-04 9.99199009e-01]\n",
      " [2.84881335e-01 7.15118665e-01]\n",
      " [2.25686593e-02 9.77431341e-01]\n",
      " [9.74514745e-01 2.54852552e-02]\n",
      " [2.20541923e-02 9.77945808e-01]]\n"
     ]
    }
   ],
   "source": [
    "y_probs = logistic_reg.predict_proba(X_test)\n",
    "print(y_probs)"
   ]
  },
  {
   "cell_type": "markdown",
   "metadata": {},
   "source": [
    "Lets take a look at one of the predictions a little closer. "
   ]
  },
  {
   "cell_type": "code",
   "execution_count": null,
   "metadata": {
    "scrolled": true
   },
   "outputs": [
    {
     "name": "stdout",
     "output_type": "stream",
     "text": [
      "Class label: 1 Class probabilities: [0.32680159 0.67319841]\n"
     ]
    }
   ],
   "source": [
    "print(\"Class label:\", y_hat[0], \"Class probabilities:\", y_probs[0])"
   ]
  },
  {
   "cell_type": "markdown",
   "metadata": {},
   "source": [
    "Do you see from the probabilities that the model predicted that the first testing observation had a probability of $0.21$ of being $0$ and a probability of $0.78$ of being $1$? Therefore, the fact that `y_hat[0] = 1` makes sense. The default behaviour in Sklearn is to assign all observations with a probability of more than $0.5$ to class $1$. Lets see what happens to our error if we adjust the threshold. For this we will consider a threshold of $0.3$."
   ]
  },
  {
   "cell_type": "code",
   "execution_count": null,
   "metadata": {},
   "outputs": [
    {
     "name": "stdout",
     "output_type": "stream",
     "text": [
      "The accuracy for our model is:  0.9707602339181286\n"
     ]
    }
   ],
   "source": [
    "y_hat_star = np.where(y_probs[:,1] > 0.7, 1, 0)\n",
    "print(\"The accuracy for our model is: \", accuracy_score(y_test, y_hat_star))"
   ]
  },
  {
   "cell_type": "markdown",
   "metadata": {},
   "source": [
    "Do you notice that the accuracy of our model with a threshold of $0.7$ is better when compared to the default value of $0.5$? Now, we are not suggesting that you adjust the threshold in this manner to minimise the testing error. No, this would lead to overfitting. You could consider using cross-validation to find an optimal threshold. Or in some applications it is advisable to adjust the threshold to minimise the chance that you make certain types of errors. To look into this issue we will use another function in Sklearn called `classification_report`"
   ]
  },
  {
   "cell_type": "code",
   "execution_count": null,
   "metadata": {},
   "outputs": [
    {
     "name": "stdout",
     "output_type": "stream",
     "text": [
      "              precision    recall  f1-score   support\n",
      "\n",
      "           0       0.97      0.95      0.96        63\n",
      "           1       0.97      0.98      0.98       108\n",
      "\n",
      "   micro avg       0.97      0.97      0.97       171\n",
      "   macro avg       0.97      0.97      0.97       171\n",
      "weighted avg       0.97      0.97      0.97       171\n",
      "\n"
     ]
    }
   ],
   "source": [
    "print(classification_report(y_test, y_hat))"
   ]
  },
  {
   "attachments": {
    "Precisionrecall.svg.png": {
     "image/png": "[encoded data removed]"
    }
   },
   "cell_type": "markdown",
   "metadata": {},
   "source": [
    "We will not explain everything included in this table. Rather, we will concentrate on the precision and recall metrics. What do these refer to? You can look at https://en.wikipedia.org/wiki/Precision_and_recall for a more complete discussion but the figure in that text summarises the concept nicely\n",
    "\n",
    "![Precisionrecall.svg.png](attachment:Precisionrecall.svg.png)\n",
    "\n",
    "In the figure, a true positive is a class label of $1$ that is correctly identified as a $1$. A false positive is a incorrectly identified $1$ i.e. the model said that the class label is $1$ when in fact it was meant to be a $0$. Can you figure out what true negatives and false negatives are? Use the article or Google if you are unsure. Precision and recall are then just ratios of these quantities. Precision is the ratio of the number of observations that the model correctly identified as having label $1$ to the total number of observations that the model predicted as having a label of $1$. Recall is the ratio of the number of observations that the model correctly identified as having label $1$ to the total number of observations with the label  $1$.\n",
    "\n",
    "Now, let us think about what the relation of the threshold is to precision and recall. In some application we may want to limit the number of false positives that we incur. For example, when using our model to predict whether students will pass in 2020, we might want to err on the side of caution when admitting new students. In this case it is probably worse to admit a student that ends up failing as opposed to rejecting a student that could have passed. Please remember this is just a made up example. We don't actually do this. Anyhow, if this was our aim then we would could achieve it by increasing our threshold. In doing so we would improve our precision.\n",
    "\n",
    "In terms of our data set we would want the opposite. It would be better to tell a patient that they have breast cancer when in fact they don't. This will afford the patient the opportunity to go through further assessments. Given this, let's try a threshold of $0.3$"
   ]
  },
  {
   "cell_type": "code",
   "execution_count": null,
   "metadata": {},
   "outputs": [
    {
     "name": "stdout",
     "output_type": "stream",
     "text": [
      "              precision    recall  f1-score   support\n",
      "\n",
      "           0       0.97      0.95      0.96        63\n",
      "           1       0.97      0.98      0.98       108\n",
      "\n",
      "   micro avg       0.97      0.97      0.97       171\n",
      "   macro avg       0.97      0.97      0.97       171\n",
      "weighted avg       0.97      0.97      0.97       171\n",
      "\n"
     ]
    }
   ],
   "source": [
    "y_thresh = np.where(y_probs[:,1] > 0.3, 1, 0)\n",
    "print(classification_report(y_test, y_thresh))"
   ]
  },
  {
   "cell_type": "markdown",
   "metadata": {},
   "source": [
    "Do you notice that the precision is now $0.96$ as opposed to $0.98$? This implies that we are predicting a class label of $1$ less accurately. This is expected since with a threshold of $0.3$ we are more likely to predict $1$. Let's look at the accuracy with this threshold"
   ]
  },
  {
   "cell_type": "code",
   "execution_count": null,
   "metadata": {},
   "outputs": [
    {
     "data": {
      "text/plain": [
       "0.9707602339181286"
      ]
     },
     "execution_count": 13,
     "metadata": {},
     "output_type": "execute_result"
    }
   ],
   "source": [
    "accuracy_score(y_test, y_thresh)"
   ]
  },
  {
   "cell_type": "markdown",
   "metadata": {},
   "source": [
    "Unfortunately, we have caused the overall accuracy of our model to decrease. This is to be expected because as we suggested, we were more willing to incorrectly classify a few observations with a label $1$ when in fact they are $0$. Lets visualise these decision boundaries."
   ]
  },
  {
   "cell_type": "code",
   "execution_count": null,
   "metadata": {},
   "outputs": [],
   "source": [
    "def plot(i, j):\n",
    "    # select arbitrary features. you can changes this but make sure\n",
    "    # the indices fall within the range of the matrix columns\n",
    "    logistic_reg.fit(X[:, [i, j]], y)\n",
    "    fig = plt.figure(figsize=(15, 8))\n",
    "    ax1 = fig.add_subplot(121)\n",
    "    ax2 = fig.add_subplot(122)\n",
    "\n",
    "    # create a meshgrid to colour all points on the left or right of the decision boundary \n",
    "    x_min, x_max = X[:, i].min(), X[:, i].max()\n",
    "    y_min, y_max = X[:, j].min(), X[:, j].max()\n",
    "    xx, yy = np.meshgrid(np.linspace(x_min, x_max, 1000), np.linspace(y_min, y_max, 1000))\n",
    "    # get predictions for each point in the meshgrid. This means each point will have either a 1 \n",
    "    # or 0 as its label so that we can color the points using the labels \n",
    "    y_hat = logistic_reg.predict(np.concatenate((xx.reshape(-1,1), yy.reshape(-1,1)), axis=1))\n",
    "    y_probs = logistic_reg.predict_proba(np.concatenate((xx.reshape(-1,1), yy.reshape(-1,1)), axis=1))\n",
    "    y_hat = y_hat.reshape(xx.shape)\n",
    "\n",
    "    # plot the meshgrid using the labels \n",
    "    ax1.pcolormesh(xx, yy, y_hat, cmap=plt.cm.get_cmap('RdBu_r'))\n",
    "    ax1.scatter(X[:, i], X[:, j], c=y, edgecolors='k', cmap=plt.cm.get_cmap('RdBu_r'))\n",
    "    ax1.set_xlabel('Feature 1')\n",
    "    ax1.set_ylabel('Feature 2')\n",
    "    ax1.set_xlim(xx.min(), xx.max())\n",
    "    ax1.set_ylim(yy.min(), yy.max())\n",
    "    ax1.set_xticks(())\n",
    "    ax1.set_yticks(())\n",
    "\n",
    "    y_hat_shifted = np.where(y_probs[:,1] > 0.3, 1, 0)\n",
    "    y_hat_shifted = y_hat_shifted.reshape(xx.shape)\n",
    "    ax2.pcolormesh(xx, yy, y_hat_shifted, cmap=plt.cm.get_cmap('RdBu_r'))\n",
    "    ax2.scatter(X[:, i], X[:, j], c=y, edgecolors='k', cmap=plt.cm.get_cmap('RdBu_r'))\n",
    "    ax2.set_xlabel('Feature 1')\n",
    "    ax2.set_ylabel('Feature 2')\n",
    "    ax2.set_xlim(xx.min(), xx.max())\n",
    "    ax2.set_ylim(yy.min(), yy.max())\n",
    "    ax2.set_xticks(())\n",
    "    ax2.set_yticks(())\n",
    "    plt.show()"
   ]
  },
  {
   "cell_type": "code",
   "execution_count": null,
   "metadata": {},
   "outputs": [],
   "source": [
    "plot(1,2) # you can play around here. adjust the input to the function to see different features plotted againt one another"
   ]
  },
  {
   "cell_type": "code",
   "execution_count": null,
   "metadata": {},
   "outputs": [],
   "source": []
  }
 ],
 "metadata": {
  "kernelspec": {
   "display_name": "Python 3",
   "language": "python",
   "name": "python3"
  },
  "language_info": {
   "codemirror_mode": {
    "name": "ipython",
    "version": 3
   },
   "file_extension": ".py",
   "mimetype": "text/x-python",
   "name": "python",
   "nbconvert_exporter": "python",
   "pygments_lexer": "ipython3",
   "version": "3.7.3"
  }
 },
 "nbformat": 4,
 "nbformat_minor": 2
}
