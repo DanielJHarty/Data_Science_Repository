{
 "cells": [
  {
   "cell_type": "markdown",
   "metadata": {},
   "source": [
    "# Kata 8"
   ]
  },
  {
   "cell_type": "markdown",
   "metadata": {},
   "source": [
    "## What is Between?"
   ]
  },
  {
   "cell_type": "code",
   "execution_count": null,
   "metadata": {},
   "outputs": [],
   "source": [
    "def between(a,b):\n",
    "    lst = [i for i in range(a, b+1)]\n",
    "    print(lst)\n",
    "\n",
    "between(1, 4)"
   ]
  },
  {
   "cell_type": "markdown",
   "metadata": {},
   "source": [
    "## 8_Well of Ideas - Easy Version"
   ]
  },
  {
   "cell_type": "code",
   "execution_count": null,
   "metadata": {},
   "outputs": [],
   "source": [
    "def well(x):\n",
    "    dict = {i:x.count(i) for i in x}\n",
    "    if dict.get('good') == None:\n",
    "        print('Fail!')\n",
    "    elif dict.get('good') in range(1, 3):\n",
    "        print('Publish!')\n",
    "    elif dict.get('good') > 2:\n",
    "        print('I smell a series!')\n",
    "\n",
    "\n",
    "well(['bad', 'bad', 'bad'])\n",
    "well(['good', 'bad', 'bad', 'bad', 'bad'])\n",
    "well(['good', 'bad', 'bad', 'bad', 'bad', 'good', 'bad', 'bad', 'good'])"
   ]
  },
  {
   "cell_type": "markdown",
   "metadata": {},
   "source": [
    "## 8_The 'if' function"
   ]
  },
  {
   "cell_type": "code",
   "execution_count": null,
   "metadata": {},
   "outputs": [],
   "source": [
    "def truthy(): print(\"True\")\n",
    "def falsey(): print(\"False\")\n",
    "\n",
    "def _if(bool, func1, func2):\n",
    "    if bool == True:\n",
    "        return func1\n",
    "    else:\n",
    "        return func2\n",
    "\n",
    "\n",
    "_if(True, truthy(), falsey())\n",
    "_if(False, truthy(), falsey())"
   ]
  },
  {
   "cell_type": "markdown",
   "metadata": {},
   "source": [
    "## 8_SumTheStrings"
   ]
  },
  {
   "cell_type": "code",
   "execution_count": 1,
   "metadata": {},
   "outputs": [],
   "source": [
    "def sum_str(a, b):\n",
    "    if a == '':\n",
    "        a = 0\n",
    "    if b == '':\n",
    "        b = 0\n",
    "    y = int(a) + int(b)\n",
    "    print(str(y))\n",
    "    \n",
    "sum_str(\"4\",\"5\")\n",
    "sum_str(\"34\",\"\")"
   ]
  },
  {
   "cell_type": "markdown",
   "metadata": {},
   "source": [
    "## 8_Sum Mixed Array"
   ]
  },
  {
   "cell_type": "code",
   "execution_count": null,
   "metadata": {},
   "outputs": [],
   "source": [
    "def sum_mix(arr):\n",
    "    for i, y in enumerate(arr):\n",
    "        arr[i] = int(y)\n",
    "    a = sum(arr)\n",
    "    print(a)\n",
    "\n",
    "sum_mix([9, 3, '7', '3'])"
   ]
  },
  {
   "cell_type": "markdown",
   "metadata": {},
   "source": [
    "## Sort and Star"
   ]
  },
  {
   "cell_type": "code",
   "execution_count": null,
   "metadata": {},
   "outputs": [],
   "source": [
    "def two_sort(array):\n",
    "    lst = sorted([i for i in array])\n",
    "    first = str(lst[0])\n",
    "    firststar = [str(i) + '***' for i in first]\n",
    "    print(''.join(firststar)[:-3])\n",
    "\n",
    "two_sort([\"bitcoin\", \"take\", \"over\", \"the\", \"world\", \"maybe\", \"who\", \"knows\", \"perhaps\"])"
   ]
  },
  {
   "cell_type": "markdown",
   "metadata": {},
   "source": [
    "## Reversed Strings"
   ]
  },
  {
   "cell_type": "code",
   "execution_count": null,
   "metadata": {},
   "outputs": [],
   "source": [
    "def solution(string):\n",
    "    print(string[::-1])\n",
    "    \n",
    "    \n",
    "solution('world')\n",
    "solution('')\n",
    "solution('h')"
   ]
  },
  {
   "cell_type": "markdown",
   "metadata": {},
   "source": [
    "## RemoveStringSpaces"
   ]
  },
  {
   "cell_type": "code",
   "execution_count": null,
   "metadata": {},
   "outputs": [],
   "source": [
    "def no_space(x):\n",
    "    y = [i for i in x if i != ' ']\n",
    "    print(''.join(y))\n",
    "\n",
    "\n",
    "no_space('8 j 8   mBliB8g  imjB8B8  jl  B')"
   ]
  },
  {
   "cell_type": "markdown",
   "metadata": {},
   "source": [
    "## Regexp Basics - is it a digit"
   ]
  },
  {
   "cell_type": "code",
   "execution_count": null,
   "metadata": {},
   "outputs": [],
   "source": [
    "def is_digit(n):\n",
    "    if n.isdigit() == False:\n",
    "        print(n.isdigit())\n",
    "    elif (n.isdigit() == True) and (int(n) >= 10):\n",
    "        print('False')\n",
    "    elif (n.isdigit() == True) and (int(n) in range(0, 10)):\n",
    "        print('True')\n",
    "    \n",
    "\n",
    "is_digit(\"\")\n",
    "is_digit(\"7\")\n",
    "is_digit(\" \")\n",
    "is_digit(\"a\")\n",
    "is_digit(\"a5\")\n",
    "is_digit(\"10\")"
   ]
  },
  {
   "cell_type": "markdown",
   "metadata": {},
   "source": [
    "## Multiple of index"
   ]
  },
  {
   "cell_type": "code",
   "execution_count": null,
   "metadata": {},
   "outputs": [],
   "source": [
    "def multiple_of_index(arr):\n",
    "    lst = []\n",
    "    for i, y in enumerate(arr):\n",
    "        if i == 0:\n",
    "            pass\n",
    "        elif y % i == 0:\n",
    "            lst.append(y)\n",
    "    print(lst)\n",
    "\n",
    "\n",
    "multiple_of_index([22, -6, 32, 82, 9, 25])"
   ]
  },
  {
   "cell_type": "markdown",
   "metadata": {},
   "source": [
    "## Merging sorted integer arrays (without duplicates)"
   ]
  },
  {
   "cell_type": "code",
   "execution_count": null,
   "metadata": {},
   "outputs": [],
   "source": [
    "def merge_arrays(first, second): \n",
    "    third = first + second\n",
    "    print(sorted(set(third)))\n",
    "\n",
    "\n",
    "merge_arrays([1, 3, 5], [2, 4, 6])"
   ]
  },
  {
   "cell_type": "markdown",
   "metadata": {},
   "source": [
    "## Is_n_Divisible_by_x_and_y"
   ]
  },
  {
   "cell_type": "code",
   "execution_count": null,
   "metadata": {},
   "outputs": [],
   "source": [
    "def is_divisible(n,x,y):\n",
    "    if n % x == 0 and n % y == 0:\n",
    "        return True\n",
    "        #print(True)\n",
    "    else:\n",
    "        return False\n",
    "        #print(False)\n",
    "\n",
    "is_divisible(10, 2, 3)"
   ]
  },
  {
   "cell_type": "markdown",
   "metadata": {},
   "source": [
    "## Grasshopper - Personalized Message"
   ]
  },
  {
   "cell_type": "code",
   "execution_count": null,
   "metadata": {},
   "outputs": [],
   "source": [
    "def greet(name, owner):\n",
    "    if name == owner:\n",
    "        print('Hello boss')\n",
    "    else:\n",
    "        print('Hello guest')\n",
    "\n",
    "\n",
    "greet('Greg', 'Daniel')"
   ]
  },
  {
   "cell_type": "markdown",
   "metadata": {},
   "source": [
    "## ExpressionsMatter"
   ]
  },
  {
   "cell_type": "code",
   "execution_count": null,
   "metadata": {},
   "outputs": [],
   "source": [
    "'''\n",
    "def expression_matter(a, b, c):\n",
    "    lst = []\n",
    "    lst.append(int(a + b + c))\n",
    "    lst.append(int(a + (b * c)))\n",
    "    lst.append(int((a * b) + c))\n",
    "    lst.append(int(a * b * c))\n",
    "    lst.append(int((a + b) * c))\n",
    "    lst.append(int(a * (b + c)))\n",
    "    print(max(lst))\n",
    "'''\n",
    "\n",
    "def expression_matter(a, b, c):\n",
    "    units = [a, b, c]\n",
    "    operators = ['+', '*']\n",
    "    calculations1 = [[(i, j, k), l, m] for (y0, i) in enumerate(units) for j in operators for (y1, k) in enumerate(units) for l in operators for (y2, m) in enumerate(units) if y0 < y1 < y2]\n",
    "    calculations2 = [[i, j, (k, l, m)] for (y0, i) in enumerate(units) for j in operators for (y1, k) in enumerate(units) for l in operators for (y2, m) in enumerate(units) if y0 < y1 < y2]\n",
    "    calculations = calculations1 + calculations2\n",
    "    maxlst = []\n",
    "    maxlst2 = []\n",
    "    for i in calculations:\n",
    "        if isinstance(i[0], tuple):\n",
    "            expr1 = '(' + ' '.join(str(x) for x in i[0]) + ')' + ' ' + ' '.join(str(x) for x in i[1]) + ' ' + str(i[2])\n",
    "            maxlst.append(expr1)\n",
    "        else:\n",
    "            expr2 = str(i[0]) + ' ' + ' '.join(str(x) for x in i[1]) + ' ' + '(' + ' '.join(str(x) for x in i[2]) + ')'\n",
    "            maxlst.append(expr2)\n",
    "    for i in maxlst:\n",
    "        maxlst2.append(eval(i))\n",
    "    print(max(maxlst2))\n",
    "    \n",
    "expression_matter(1, 2, 3)"
   ]
  },
  {
   "cell_type": "markdown",
   "metadata": {},
   "source": [
    "## DrawStairs"
   ]
  },
  {
   "cell_type": "code",
   "execution_count": null,
   "metadata": {},
   "outputs": [],
   "source": [
    "def draw_stairs(n):\n",
    "    a = []\n",
    "    for i in range(n-1):\n",
    "        a.append(' ' * i + 'I\\n')\n",
    "    a.append(' ' * (n-1) + 'I')\n",
    "    return ''.join(a)\n",
    "    \n",
    "draw_stairs(3)"
   ]
  },
  {
   "cell_type": "markdown",
   "metadata": {},
   "source": [
    "## Do I get a bonus"
   ]
  },
  {
   "cell_type": "code",
   "execution_count": null,
   "metadata": {},
   "outputs": [],
   "source": [
    "def bonus_time(salary, bonus):\n",
    "    if bonus == True:\n",
    "        print('$' + str(salary * 10))\n",
    "    else:\n",
    "        print('$' +  str(salary))\n",
    "\n",
    "bonus_time(10000, True)"
   ]
  },
  {
   "cell_type": "markdown",
   "metadata": {},
   "source": [
    "## CenturyFromYear"
   ]
  },
  {
   "cell_type": "code",
   "execution_count": null,
   "metadata": {},
   "outputs": [],
   "source": [
    "def century(year):\n",
    "    for i in str(year).split():\n",
    "        if int(i[-2]) == 0 and int(i[-1]) in range(1, 10):\n",
    "            print((year // 100) + 1)\n",
    "        elif int(i[-2]) > 0 and int(i[-1]) in range(0, 10):\n",
    "            print((year // 100) + 1)\n",
    "        else:\n",
    "            print(year // 100)"
   ]
  },
  {
   "cell_type": "markdown",
   "metadata": {},
   "source": [
    "## Beginner - Lost Without a Map"
   ]
  },
  {
   "cell_type": "code",
   "execution_count": null,
   "metadata": {},
   "outputs": [],
   "source": [
    "def maps(a):\n",
    "    b = map(lambda x: x*2, a)\n",
    "    print(list(b))\n",
    "\n",
    "\n",
    "maps([1, 2, 3])"
   ]
  },
  {
   "cell_type": "markdown",
   "metadata": {},
   "source": [
    "## Area of a Square"
   ]
  },
  {
   "cell_type": "code",
   "execution_count": null,
   "metadata": {},
   "outputs": [],
   "source": [
    "import math\n",
    "\n",
    "def square_area(A):\n",
    "    #circumference: C = 2 * pi * r\n",
    "    #radius = C / (2 * pi)\n",
    "    #Argument A represents 1/4 of the circumference, therefore C = 4 * A\n",
    "    #Diameter of circle equal to side length of square\n",
    "    #quare area = length * height\n",
    "    C = 4 * A\n",
    "    Radius = C / (2 * math.pi)\n",
    "    #Diameter = 2 * Radius\n",
    "    SquareArea = Radius ** 2\n",
    "    print(round(SquareArea, 2))\n",
    "\n",
    "square_area(2)\n",
    "square_area(0)\n",
    "square_area(14.05)\n",
    "square_area(1)\n",
    "square_area(100)"
   ]
  },
  {
   "cell_type": "markdown",
   "metadata": {},
   "source": [
    "## Alan Partridge II - Apple Turnover"
   ]
  },
  {
   "cell_type": "code",
   "execution_count": null,
   "metadata": {},
   "outputs": [],
   "source": [
    "def apple(x):\n",
    "    if (int(x) ** 2) >= 1000:\n",
    "        print(\"It's hotter than the sun!\") \n",
    "    else:\n",
    "        print('Help yourself to a honeycomb Yorkie for the glovebox')\n",
    "\n",
    "apple('50')\n",
    "apple(4)\n",
    "apple(\"12\")\n",
    "apple(60)"
   ]
  },
  {
   "cell_type": "markdown",
   "metadata": {},
   "source": [
    "# Kata 7"
   ]
  },
  {
   "cell_type": "markdown",
   "metadata": {},
   "source": [
    "## Sum of powers of 2"
   ]
  },
  {
   "cell_type": "code",
   "execution_count": null,
   "metadata": {},
   "outputs": [],
   "source": [
    "def powers(n):\n",
    "    #lst = [2 ** i for i in range(n)]\n",
    "    #lst2 = set([tuple(sorted((i, y))) for i in lst for y in lst if i + y == n and i != y])\n",
    "    #lst3 = [i for i in lst if i == n]\n",
    "    #lst25 = [y for i in lst2 for y in i]\n",
    "    #lst4 = lst3 + lst25\n",
    "    #print(lst4)\n",
    "\n",
    "    for i in range(n):\n",
    "        for y in range(n):\n",
    "            if i + y == n and i != y:\n",
    "                lst2 = set(tuple(sorted((i, y))))\n",
    "    print(lst2)\n",
    "\n",
    "    \n",
    "powers(1)\n",
    "powers(2)\n",
    "powers(6)"
   ]
  },
  {
   "cell_type": "markdown",
   "metadata": {},
   "source": [
    "## Simple Fun #37; House Numbers Sum"
   ]
  },
  {
   "cell_type": "code",
   "execution_count": null,
   "metadata": {},
   "outputs": [],
   "source": [
    "def house_numbers_sum(inp):\n",
    "    lst, i = [[], 0]\n",
    "    while i in range(len(inp)):\n",
    "        if inp[i] == 0:\n",
    "            break\n",
    "        else:\n",
    "            lst.append(inp[i])\n",
    "        i += 1\n",
    "    print(sum(lst))\n",
    "    \n",
    "    \n",
    "house_numbers_sum([5, 1, 2, 3, 0, 1, 5, 0, 2])"
   ]
  },
  {
   "cell_type": "markdown",
   "metadata": {},
   "source": [
    "## LoveVsFriendship"
   ]
  },
  {
   "cell_type": "code",
   "execution_count": null,
   "metadata": {},
   "outputs": [],
   "source": [
    "def words_to_marks(s):\n",
    "    import string\n",
    "\n",
    "    a = [(i, y) for (i, y) in enumerate(string.ascii_lowercase, 1)]\n",
    "    b = [y[0] for y in a for i in s if i in y[1]]\n",
    "\n",
    "    print(sum(b))\n",
    "\n",
    "    \n",
    "words_to_marks('attitude')"
   ]
  },
  {
   "cell_type": "markdown",
   "metadata": {},
   "source": [
    "## Find all occurrences of an element in an array"
   ]
  },
  {
   "cell_type": "code",
   "execution_count": null,
   "metadata": {},
   "outputs": [],
   "source": [
    "def find_all(array, n):\n",
    "    lst = [i for (i, y) in enumerate(array) if y == n]\n",
    "    print(lst)\n",
    "\n",
    "\n",
    "find_all([6, 9, 3, 4, 3, 82, 11], 3)\n",
    "find_all([10, 16, 20, 6, 14, 11, 20, 2, 17, 16, 14], 16)\n",
    "find_all([20, 20, 10, 13, 15, 2, 7, 2, 20, 3, 18, 2, 3, 2, 16, 10, 9, 9, 7, 5, 15, 5], 20)"
   ]
  }
 ],
 "metadata": {
  "kernelspec": {
   "display_name": "Python 3",
   "language": "python",
   "name": "python3"
  },
  "language_info": {
   "codemirror_mode": {
    "name": "ipython",
    "version": 3
   },
   "file_extension": ".py",
   "mimetype": "text/x-python",
   "name": "python",
   "nbconvert_exporter": "python",
   "pygments_lexer": "ipython3",
   "version": "3.7.5"
  }
 },
 "nbformat": 4,
 "nbformat_minor": 4
}
